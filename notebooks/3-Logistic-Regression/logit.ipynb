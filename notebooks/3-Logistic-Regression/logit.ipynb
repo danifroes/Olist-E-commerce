{
 "cells": [
  {
   "cell_type": "markdown",
   "metadata": {},
   "source": [
    "# Logit Orders "
   ]
  },
  {
   "cell_type": "markdown",
   "metadata": {},
   "source": [
    "To figure out the impact of `wait_time` and `delay_vs_expected` on very good and very bad reviews, I will run two multivariate logistic regressions (`logit_one` and `logit_five`) to predict `dim_is_one_star` and `dim_is_five_star` respectively."
   ]
  },
  {
   "cell_type": "code",
   "execution_count": 1,
   "metadata": {},
   "outputs": [],
   "source": [
    "import pandas as pd\n",
    "import seaborn as sns\n",
    "import statsmodels.api as sm\n",
    "import statsmodels.formula.api as smf\n",
    "import matplotlib.pyplot as plt"
   ]
  },
  {
   "cell_type": "code",
   "execution_count": 3,
   "metadata": {},
   "outputs": [
    {
     "data": {
      "text/plain": [
       "Index(['order_id', 'order_delivered_customer_date', 'wait_time',\n",
       "       'expected_wait_time', 'delay_vs_expected', 'order_status',\n",
       "       'dim_is_five_star', 'dim_is_one_star', 'review_score',\n",
       "       'number_of_products', 'number_of_sellers', 'price', 'freight_value',\n",
       "       'distance_seller_customer'],\n",
       "      dtype='object')"
      ]
     },
     "execution_count": 3,
     "metadata": {},
     "output_type": "execute_result"
    }
   ],
   "source": [
    "from olist.order import Order\n",
    "orders = Order().get_training_data(with_distance_seller_customer=True)\n",
    "orders.columns"
   ]
  },
  {
   "cell_type": "markdown",
   "metadata": {},
   "source": [
    "Select which features avoiding data-leaks|"
   ]
  },
  {
   "cell_type": "code",
   "execution_count": 4,
   "metadata": {},
   "outputs": [],
   "source": [
    "features = ['wait_time', \"delay_vs_expected\", \"number_of_sellers\", \"distance_seller_customer\", \"price\", \"freight_value\"]"
   ]
  },
  {
   "cell_type": "markdown",
   "metadata": {},
   "source": [
    "Check the multi-colinearity of the features, using the `VIF index`. It shouldn't be too high (< 10 preferably) to ensure we can trust the partial regression coefficents and their associated `p-values` \n",
    "\n",
    "The variance inflation factor is a measure for the increase of the variance of the parameter estimates if an additional variable, given by exog_idx is added to the linear regression. It is a measure for multicollinearity of the design matrix, exog.\n",
    "\n",
    "One recommendation is that if VIF is greater than 5, then the explanatory variable given by exog_idx is highly collinear with the other explanatory variables, and the parameter estimates will have large standard errors because of this."
   ]
  },
  {
   "cell_type": "code",
   "execution_count": 7,
   "metadata": {
    "scrolled": true
   },
   "outputs": [
    {
     "data": {
      "text/html": [
       "<div>\n",
       "<style scoped>\n",
       "    .dataframe tbody tr th:only-of-type {\n",
       "        vertical-align: middle;\n",
       "    }\n",
       "\n",
       "    .dataframe tbody tr th {\n",
       "        vertical-align: top;\n",
       "    }\n",
       "\n",
       "    .dataframe thead th {\n",
       "        text-align: right;\n",
       "    }\n",
       "</style>\n",
       "<table border=\"1\" class=\"dataframe\">\n",
       "  <thead>\n",
       "    <tr style=\"text-align: right;\">\n",
       "      <th></th>\n",
       "      <th>wait_time</th>\n",
       "      <th>delay_vs_expected</th>\n",
       "      <th>number_of_sellers</th>\n",
       "      <th>distance_seller_customer</th>\n",
       "      <th>price</th>\n",
       "      <th>freight_value</th>\n",
       "    </tr>\n",
       "  </thead>\n",
       "  <tbody>\n",
       "    <tr>\n",
       "      <th>0</th>\n",
       "      <td>8.436574</td>\n",
       "      <td>0.0</td>\n",
       "      <td>1</td>\n",
       "      <td>18.063837</td>\n",
       "      <td>29.99</td>\n",
       "      <td>8.72</td>\n",
       "    </tr>\n",
       "    <tr>\n",
       "      <th>1</th>\n",
       "      <td>13.782037</td>\n",
       "      <td>0.0</td>\n",
       "      <td>1</td>\n",
       "      <td>856.292580</td>\n",
       "      <td>118.70</td>\n",
       "      <td>22.76</td>\n",
       "    </tr>\n",
       "    <tr>\n",
       "      <th>2</th>\n",
       "      <td>9.394213</td>\n",
       "      <td>0.0</td>\n",
       "      <td>1</td>\n",
       "      <td>514.130333</td>\n",
       "      <td>159.90</td>\n",
       "      <td>19.22</td>\n",
       "    </tr>\n",
       "    <tr>\n",
       "      <th>3</th>\n",
       "      <td>13.208750</td>\n",
       "      <td>0.0</td>\n",
       "      <td>1</td>\n",
       "      <td>1822.800366</td>\n",
       "      <td>45.00</td>\n",
       "      <td>27.20</td>\n",
       "    </tr>\n",
       "    <tr>\n",
       "      <th>4</th>\n",
       "      <td>2.873877</td>\n",
       "      <td>0.0</td>\n",
       "      <td>1</td>\n",
       "      <td>30.174037</td>\n",
       "      <td>19.90</td>\n",
       "      <td>8.72</td>\n",
       "    </tr>\n",
       "    <tr>\n",
       "      <th>...</th>\n",
       "      <td>...</td>\n",
       "      <td>...</td>\n",
       "      <td>...</td>\n",
       "      <td>...</td>\n",
       "      <td>...</td>\n",
       "      <td>...</td>\n",
       "    </tr>\n",
       "    <tr>\n",
       "      <th>96528</th>\n",
       "      <td>8.218009</td>\n",
       "      <td>0.0</td>\n",
       "      <td>1</td>\n",
       "      <td>69.481037</td>\n",
       "      <td>72.00</td>\n",
       "      <td>13.08</td>\n",
       "    </tr>\n",
       "    <tr>\n",
       "      <th>96529</th>\n",
       "      <td>22.193727</td>\n",
       "      <td>0.0</td>\n",
       "      <td>1</td>\n",
       "      <td>474.098245</td>\n",
       "      <td>174.90</td>\n",
       "      <td>20.10</td>\n",
       "    </tr>\n",
       "    <tr>\n",
       "      <th>96530</th>\n",
       "      <td>24.859421</td>\n",
       "      <td>0.0</td>\n",
       "      <td>1</td>\n",
       "      <td>968.051192</td>\n",
       "      <td>205.99</td>\n",
       "      <td>65.02</td>\n",
       "    </tr>\n",
       "    <tr>\n",
       "      <th>96531</th>\n",
       "      <td>17.086424</td>\n",
       "      <td>0.0</td>\n",
       "      <td>1</td>\n",
       "      <td>370.146853</td>\n",
       "      <td>359.98</td>\n",
       "      <td>81.18</td>\n",
       "    </tr>\n",
       "    <tr>\n",
       "      <th>96532</th>\n",
       "      <td>7.674306</td>\n",
       "      <td>0.0</td>\n",
       "      <td>1</td>\n",
       "      <td>631.817784</td>\n",
       "      <td>68.50</td>\n",
       "      <td>18.36</td>\n",
       "    </tr>\n",
       "  </tbody>\n",
       "</table>\n",
       "<p>96525 rows × 6 columns</p>\n",
       "</div>"
      ],
      "text/plain": [
       "       wait_time  delay_vs_expected  number_of_sellers  \\\n",
       "0       8.436574                0.0                  1   \n",
       "1      13.782037                0.0                  1   \n",
       "2       9.394213                0.0                  1   \n",
       "3      13.208750                0.0                  1   \n",
       "4       2.873877                0.0                  1   \n",
       "...          ...                ...                ...   \n",
       "96528   8.218009                0.0                  1   \n",
       "96529  22.193727                0.0                  1   \n",
       "96530  24.859421                0.0                  1   \n",
       "96531  17.086424                0.0                  1   \n",
       "96532   7.674306                0.0                  1   \n",
       "\n",
       "       distance_seller_customer   price  freight_value  \n",
       "0                     18.063837   29.99           8.72  \n",
       "1                    856.292580  118.70          22.76  \n",
       "2                    514.130333  159.90          19.22  \n",
       "3                   1822.800366   45.00          27.20  \n",
       "4                     30.174037   19.90           8.72  \n",
       "...                         ...     ...            ...  \n",
       "96528                 69.481037   72.00          13.08  \n",
       "96529                474.098245  174.90          20.10  \n",
       "96530                968.051192  205.99          65.02  \n",
       "96531                370.146853  359.98          81.18  \n",
       "96532                631.817784   68.50          18.36  \n",
       "\n",
       "[96525 rows x 6 columns]"
      ]
     },
     "execution_count": 7,
     "metadata": {},
     "output_type": "execute_result"
    }
   ],
   "source": [
    "from statsmodels.stats.outliers_influence import variance_inflation_factor as vif\n",
    "X = orders[features]\n",
    "X"
   ]
  },
  {
   "cell_type": "code",
   "execution_count": 9,
   "metadata": {},
   "outputs": [
    {
     "data": {
      "text/html": [
       "<div>\n",
       "<style scoped>\n",
       "    .dataframe tbody tr th:only-of-type {\n",
       "        vertical-align: middle;\n",
       "    }\n",
       "\n",
       "    .dataframe tbody tr th {\n",
       "        vertical-align: top;\n",
       "    }\n",
       "\n",
       "    .dataframe thead th {\n",
       "        text-align: right;\n",
       "    }\n",
       "</style>\n",
       "<table border=\"1\" class=\"dataframe\">\n",
       "  <thead>\n",
       "    <tr style=\"text-align: right;\">\n",
       "      <th></th>\n",
       "      <th>vif_index</th>\n",
       "      <th>features</th>\n",
       "    </tr>\n",
       "  </thead>\n",
       "  <tbody>\n",
       "    <tr>\n",
       "      <th>0</th>\n",
       "      <td>6.944987</td>\n",
       "      <td>wait_time</td>\n",
       "    </tr>\n",
       "    <tr>\n",
       "      <th>1</th>\n",
       "      <td>2.262767</td>\n",
       "      <td>delay_vs_expected</td>\n",
       "    </tr>\n",
       "    <tr>\n",
       "      <th>2</th>\n",
       "      <td>4.309666</td>\n",
       "      <td>number_of_sellers</td>\n",
       "    </tr>\n",
       "    <tr>\n",
       "      <th>3</th>\n",
       "      <td>2.850947</td>\n",
       "      <td>distance_seller_customer</td>\n",
       "    </tr>\n",
       "    <tr>\n",
       "      <th>4</th>\n",
       "      <td>1.723233</td>\n",
       "      <td>price</td>\n",
       "    </tr>\n",
       "    <tr>\n",
       "      <th>5</th>\n",
       "      <td>2.869877</td>\n",
       "      <td>freight_value</td>\n",
       "    </tr>\n",
       "  </tbody>\n",
       "</table>\n",
       "</div>"
      ],
      "text/plain": [
       "   vif_index                  features\n",
       "0   6.944987                 wait_time\n",
       "1   2.262767         delay_vs_expected\n",
       "2   4.309666         number_of_sellers\n",
       "3   2.850947  distance_seller_customer\n",
       "4   1.723233                     price\n",
       "5   2.869877             freight_value"
      ]
     },
     "execution_count": 9,
     "metadata": {},
     "output_type": "execute_result"
    }
   ],
   "source": [
    "df = pd.DataFrame()\n",
    "df[\"vif_index\"] = [vif(X.values, i) for i in range(X.shape[1])]\n",
    "df[\"features\"] = X.columns\n",
    "df"
   ]
  },
  {
   "cell_type": "markdown",
   "metadata": {},
   "source": [
    "Fit two LOGIT models (`logit_one` and `logit_five`) to predict `dim_is_one_star` and `dim_is_five_star`"
   ]
  },
  {
   "cell_type": "code",
   "execution_count": 10,
   "metadata": {
    "scrolled": false
   },
   "outputs": [
    {
     "name": "stdout",
     "output_type": "stream",
     "text": [
      "Optimization terminated successfully.\n",
      "         Current function value: 0.282467\n",
      "         Iterations 7\n",
      "                           Logit Regression Results                           \n",
      "==============================================================================\n",
      "Dep. Variable:        dim_is_one_star   No. Observations:                96525\n",
      "Model:                          Logit   Df Residuals:                    96518\n",
      "Method:                           MLE   Df Model:                            6\n",
      "Date:                Sun, 25 Jul 2021   Pseudo R-squ.:                  0.1346\n",
      "Time:                        22:25:42   Log-Likelihood:                -27265.\n",
      "converged:                       True   LL-Null:                       -31505.\n",
      "Covariance Type:            nonrobust   LLR p-value:                     0.000\n",
      "============================================================================================\n",
      "                               coef    std err          z      P>|z|      [0.025      0.975]\n",
      "--------------------------------------------------------------------------------------------\n",
      "Intercept                   -5.1538      0.069    -74.957      0.000      -5.289      -5.019\n",
      "wait_time                    0.0727      0.002     41.627      0.000       0.069       0.076\n",
      "delay_vs_expected            0.0549      0.004     14.097      0.000       0.047       0.062\n",
      "number_of_sellers            1.8415      0.060     30.518      0.000       1.723       1.960\n",
      "distance_seller_customer    -0.0004   2.26e-05    -16.290      0.000      -0.000      -0.000\n",
      "price                        0.0002   5.06e-05      3.990      0.000       0.000       0.000\n",
      "freight_value                0.0051      0.001     10.027      0.000       0.004       0.006\n",
      "============================================================================================\n"
     ]
    }
   ],
   "source": [
    "logit_one = smf.logit(formula='dim_is_one_star ~'+ ' + '.join(features), data=orders).fit()\n",
    "print(logit_one.summary())"
   ]
  },
  {
   "cell_type": "code",
   "execution_count": 11,
   "metadata": {
    "scrolled": false
   },
   "outputs": [
    {
     "name": "stdout",
     "output_type": "stream",
     "text": [
      "Optimization terminated successfully.\n",
      "         Current function value: 0.638844\n",
      "         Iterations 7\n",
      "                           Logit Regression Results                           \n",
      "==============================================================================\n",
      "Dep. Variable:       dim_is_five_star   No. Observations:                96525\n",
      "Model:                          Logit   Df Residuals:                    96518\n",
      "Method:                           MLE   Df Model:                            6\n",
      "Date:                Sun, 25 Jul 2021   Pseudo R-squ.:                 0.05668\n",
      "Time:                        22:25:53   Log-Likelihood:                -61664.\n",
      "converged:                       True   LL-Null:                       -65370.\n",
      "Covariance Type:            nonrobust   LLR p-value:                     0.000\n",
      "============================================================================================\n",
      "                               coef    std err          z      P>|z|      [0.025      0.975]\n",
      "--------------------------------------------------------------------------------------------\n",
      "Intercept                    2.4310      0.064     37.961      0.000       2.305       2.556\n",
      "wait_time                   -0.0545      0.001    -44.413      0.000      -0.057      -0.052\n",
      "delay_vs_expected           -0.0941      0.005    -18.734      0.000      -0.104      -0.084\n",
      "number_of_sellers           -1.3914      0.062    -22.611      0.000      -1.512      -1.271\n",
      "distance_seller_customer     0.0002   1.38e-05     13.314      0.000       0.000       0.000\n",
      "price                        0.0001   3.67e-05      3.295      0.001    4.89e-05       0.000\n",
      "freight_value               -0.0029      0.000     -7.421      0.000      -0.004      -0.002\n",
      "============================================================================================\n"
     ]
    }
   ],
   "source": [
    "logit_five = smf.logit(formula='dim_is_five_star ~'+ ' + '.join(features), data=orders).fit()\n",
    "print(logit_five.summary())"
   ]
  },
  {
   "cell_type": "markdown",
   "metadata": {},
   "source": [
    "Interpret your results:\n",
    "\n",
    "delay_vs_expected influences five_star ratings even more than one_star ratings"
   ]
  },
  {
   "cell_type": "markdown",
   "metadata": {},
   "source": [
    "All other thing being equal, the delay factor tends to increase the chances of getting stripped of the 5-star even more so than it affect the chances of 1-star reviews. Probably because 1-stars are really targeting bad products themselves, not bad deliveries"
   ]
  },
  {
   "cell_type": "code",
   "execution_count": 12,
   "metadata": {
    "scrolled": true
   },
   "outputs": [
    {
     "name": "stdout",
     "output_type": "stream",
     "text": [
      "                           Logit Regression Results                           \n",
      "==============================================================================\n",
      "Dep. Variable:        dim_is_one_star   No. Observations:                96525\n",
      "Model:                          Logit   Df Residuals:                    96518\n",
      "Method:                           MLE   Df Model:                            6\n",
      "Date:                Sun, 25 Jul 2021   Pseudo R-squ.:                  0.1346\n",
      "Time:                        22:29:44   Log-Likelihood:                -27265.\n",
      "converged:                       True   LL-Null:                       -31505.\n",
      "Covariance Type:            nonrobust   LLR p-value:                     0.000\n",
      "============================================================================================\n",
      "                               coef    std err          z      P>|z|      [0.025      0.975]\n",
      "--------------------------------------------------------------------------------------------\n",
      "Intercept                   -5.1538      0.069    -74.957      0.000      -5.289      -5.019\n",
      "wait_time                    0.0727      0.002     41.627      0.000       0.069       0.076\n",
      "delay_vs_expected            0.0549      0.004     14.097      0.000       0.047       0.062\n",
      "number_of_sellers            1.8415      0.060     30.518      0.000       1.723       1.960\n",
      "distance_seller_customer    -0.0004   2.26e-05    -16.290      0.000      -0.000      -0.000\n",
      "price                        0.0002   5.06e-05      3.990      0.000       0.000       0.000\n",
      "freight_value                0.0051      0.001     10.027      0.000       0.004       0.006\n",
      "============================================================================================\n",
      "----------------------------------------------------------------------------------------------------\n",
      "----------------------------------------------------------------------------------------------------\n",
      "----------------------------------------------------------------------------------------------------\n",
      "\n",
      "                            OLS Regression Results                            \n",
      "==============================================================================\n",
      "Dep. Variable:           review_score   R-squared:                       0.138\n",
      "Model:                            OLS   Adj. R-squared:                  0.138\n",
      "Method:                 Least Squares   F-statistic:                     2573.\n",
      "Date:                Sun, 25 Jul 2021   Prob (F-statistic):               0.00\n",
      "Time:                        22:29:44   Log-Likelihood:            -1.5488e+05\n",
      "No. Observations:               96525   AIC:                         3.098e+05\n",
      "Df Residuals:                   96518   BIC:                         3.098e+05\n",
      "Df Model:                           6                                         \n",
      "Covariance Type:            nonrobust                                         \n",
      "============================================================================================\n",
      "                               coef    std err          t      P>|t|      [0.025      0.975]\n",
      "--------------------------------------------------------------------------------------------\n",
      "Intercept                    5.9961      0.033    181.353      0.000       5.931       6.061\n",
      "wait_time                   -0.0465      0.001    -70.257      0.000      -0.048      -0.045\n",
      "delay_vs_expected           -0.0101      0.001     -8.251      0.000      -0.012      -0.008\n",
      "number_of_sellers           -1.3018      0.032    -41.081      0.000      -1.364      -1.240\n",
      "distance_seller_customer     0.0002   7.74e-06     25.630      0.000       0.000       0.000\n",
      "price                     3.485e-06   2.04e-05      0.171      0.864   -3.65e-05    4.34e-05\n",
      "freight_value               -0.0027      0.000    -12.943      0.000      -0.003      -0.002\n",
      "==============================================================================\n",
      "Omnibus:                    18841.341   Durbin-Watson:                   2.007\n",
      "Prob(Omnibus):                  0.000   Jarque-Bera (JB):            36711.878\n",
      "Skew:                          -1.192   Prob(JB):                         0.00\n",
      "Kurtosis:                       4.856   Cond. No.                     1.00e+04\n",
      "==============================================================================\n",
      "\n",
      "Warnings:\n",
      "[1] Standard Errors assume that the covariance matrix of the errors is correctly specified.\n",
      "[2] The condition number is large,  1e+04. This might indicate that there are\n",
      "strong multicollinearity or other numerical problems.\n"
     ]
    }
   ],
   "source": [
    "linear_model = smf.ols('review_score ~'+ ' + '.join(features), data=orders).fit()\n",
    "print(logit_one.summary())\n",
    "print((('-----'*20) +'\\n')*3)\n",
    "print(linear_model.summary())"
   ]
  },
  {
   "cell_type": "code",
   "execution_count": 13,
   "metadata": {
    "scrolled": true
   },
   "outputs": [
    {
     "data": {
      "text/plain": [
       "<AxesSubplot:title={'center':'Logit'}>"
      ]
     },
     "execution_count": 13,
     "metadata": {},
     "output_type": "execute_result"
    },
    {
     "data": {
      "image/png": "[encoded data removed]",
      "text/plain": [
       "<Figure size 936x360 with 2 Axes>"
      ]
     },
     "metadata": {
      "needs_background": "light"
     },
     "output_type": "display_data"
    }
   ],
   "source": [
    "plt.figure(figsize=(13,5))\n",
    "plt.suptitle('Linear vs. Logit Coefficents')\n",
    "ax1 = plt.subplot(1,2,1)\n",
    "ax1.set_title('Linear')\n",
    "ax1.set_xlim(-1.5, 0.25)\n",
    "linear_model.params[1:].sort_values().plot(kind='barh', ax=ax1)\n",
    "\n",
    "\n",
    "ax2 = plt.subplot(1,2,2)\n",
    "ax2.set_title('Logit')\n",
    "ax2.yaxis.tick_right()\n",
    "ax2.set_xlim(-1.5, 0.25)\n",
    "logit_five.params[1:].sort_values().plot(kind='barh', ax=ax2)"
   ]
  },
  {
   "cell_type": "markdown",
   "metadata": {},
   "source": [
    "Side by side comparison of our different models tell similar stories, with ~13% of the variance being explained through the selected features (as seen in the R-squared) and similar feature importance returning in the models' coefficients"
   ]
  },
  {
   "cell_type": "code",
   "execution_count": null,
   "metadata": {},
   "outputs": [],
   "source": []
  }
 ],
 "metadata": {
  "kernelspec": {
   "display_name": "Python 3",
   "language": "python",
   "name": "python3"
  },
  "language_info": {
   "codemirror_mode": {
    "name": "ipython",
    "version": 3
   },
   "file_extension": ".py",
   "mimetype": "text/x-python",
   "name": "python",
   "nbconvert_exporter": "python",
   "pygments_lexer": "ipython3",
   "version": "3.8.5"
  },
  "toc": {
   "base_numbering": 1,
   "nav_menu": {},
   "number_sections": false,
   "sideBar": true,
   "skip_h1_title": false,
   "title_cell": "Table of Contents",
   "title_sidebar": "Contents",
   "toc_cell": false,
   "toc_position": {},
   "toc_section_display": true,
   "toc_window_display": true
  },
  "varInspector": {
   "cols": {
    "lenName": 16,
    "lenType": 16,
    "lenVar": 40
   },
   "kernels_config": {
    "python": {
     "delete_cmd_postfix": "",
     "delete_cmd_prefix": "del ",
     "library": "var_list.py",
     "varRefreshCmd": "print(var_dic_list())"
    },
    "r": {
     "delete_cmd_postfix": ") ",
     "delete_cmd_prefix": "rm(",
     "library": "var_list.r",
     "varRefreshCmd": "cat(var_dic_list()) "
    }
   },
   "types_to_exclude": [
    "module",
    "function",
    "builtin_function_or_method",
    "instance",
    "_Feature"
   ],
   "window_display": false
  }
 },
 "nbformat": 4,
 "nbformat_minor": 4
}
