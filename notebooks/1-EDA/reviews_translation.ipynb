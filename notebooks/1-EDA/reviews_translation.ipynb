{
 "cells": [
  {
   "cell_type": "markdown",
   "metadata": {},
   "source": [
    "In oder to have a qualitative analysis of the reviews, here is the translation of a sample size 15:"
   ]
  },
  {
   "cell_type": "code",
   "execution_count": 14,
   "metadata": {},
   "outputs": [],
   "source": [
    "#Load data\n",
    "from google_trans_new import google_translator \n",
    "from olist.data import Olist\n",
    "data = Olist().get_data()"
   ]
  },
  {
   "cell_type": "code",
   "execution_count": 19,
   "metadata": {},
   "outputs": [
    {
     "data": {
      "text/plain": [
       "['Comprei dermacol, na foto do produto aparece 1 mini bisnaga , o q dá a entender q é uma amostra do produto. Recebi uma base s/rótulo ou especificação,dentro de um recipiente redondo e não é Dermacol',\n",
       " 'Péssimo',\n",
       " 'Estou aguardando uma posição da loja em relação a disponibilidade do produto',\n",
       " 'Entregaram só 1 lustre e ficou faltando o outro',\n",
       " 'A compra não foi entregue na minha residência,tive que ir nos correios buscar, vocês poderiam informar se entregam ou não né..Estou com uma outra compra que até agora não chegou,já até passou da data.',\n",
       " 'além de ter sido muito mal embalado sem nenhuma proteção e por isso chegou completamente danificado, a mesa é bamba e o apoio para o tampo é ruim e fica escorregando, tive que improvisar.',\n",
       " 'Sem comentários',\n",
       " 'Não estou satisfeita com a qualidade do produto',\n",
       " 'O produto é de péssima qualidade veio faltando parafuso e ainda não encaixa no vaso,Não recomendo, vai jogar dinheiro fora.',\n",
       " 'Vendido como tapete de yoga, sendo que não tem o tamanho mínimo para tal prática, se forem dignos e pessoas de acordo com os direitos dos consumidores vão me devolver o dinheiro!!',\n",
       " 'Olá!\\r\\nAinda não recebi o produto e o prazo informa para entrega seria para dia 04.06.2018, mais até o momento nada......',\n",
       " 'tentei usar a opção de devolver produto no site das lannister e não da certo, fica dando erro, entrei em contato com o vendedor e estou aguardando para fazer a troca do meu produto',\n",
       " 'Nao recebi o meu produto. Mandaram um outro produto em nome de Vinicius Silva pela loja Techno Gadget (Mega TG) uma barra de exercicios. Gostaria de saber onde esta o produto que comprei',\n",
       " 'Ainda não recebi produto e já enviei mensagem para a loja sobre tal situação.\\r\\nEstou aguardando resposta\\r\\nSempre comprei na loja e nunca tive problema, espero que agora resolvam a situação',\n",
       " 'É couro sintético!!']"
      ]
     },
     "execution_count": 19,
     "metadata": {},
     "output_type": "execute_result"
    }
   ],
   "source": [
    "#Sample of 15\n",
    "sample = data['order_reviews'].dropna().query('review_score==1').sample(15)\n",
    "low_review_sample = sample['review_comment_message'].tolist()\n",
    "low_review_sample"
   ]
  },
  {
   "cell_type": "code",
   "execution_count": 20,
   "metadata": {},
   "outputs": [
    {
     "name": "stdout",
     "output_type": "stream",
     "text": [
      "['I bought dermacol, in the photo of the product appears 1 mini bisnaga, what implies that it is a sample of the product. I received a base s / label or specification, inside a round container and is not dermacol ',' bad ',' I'm waiting for a position of the store in relation to the availability of the product ',' delivered only 1 chandelier and was missing the other ' , 'The purchase was not delivered to my residence, I had to go in the courses to get, you could inform themselves or not right .. I'm with another purchase that has not yet arrived, even went from the date.' It was very poorly packaged without any protection and so it came completely damaged, the table is bamba and the support for the top is bad and gets slipping, I had to improvise. ',' No comments ',' I'm not satisfied with the quality of the Product ',' The product is a bad quality came missing screw and still does not fit into the vase, I do not recommend, will throw money away. ',' Sold like yoga carpet, and it does not have the minimum size for such practice if they are Dignos and people according to consumer rights will give me back the DIN I did not receive the product and the deadline informs for delivery would be for day 04.06.2018, more so far nothing ...... ',' I tried to use the option to return product On the website of Lannister and not sure, it makes mistake, I contacted the seller and I am waiting to make the exchange of my product ',' I did not receive my product. They sent another product on behalf of Vinicius Silva by the Techno Gadget (Mega TG) store a bar of exercise. I would like to know where this product I bought ',' I still did not receive a product and I already sent a message to the store about such a situation. \\ R \\ n \\ nested awaiting response \\ r \\ nsempre I bought in the store and I never had a problem, I hope they now resolve the situation ',' is synthetic leather !! '] \n"
     ]
    }
   ],
   "source": [
    "translator = google_translator()  \n",
    "translate_text = translator.translate(low_review_sample,lang_tgt='en')  \n",
    "print(translate_text)"
   ]
  },
  {
   "cell_type": "markdown",
   "metadata": {},
   "source": [
    "Complaints about both delivery time and sellers"
   ]
  },
  {
   "cell_type": "code",
   "execution_count": null,
   "metadata": {},
   "outputs": [],
   "source": []
  }
 ],
 "metadata": {
  "kernelspec": {
   "display_name": "Python 3",
   "language": "python",
   "name": "python3"
  },
  "language_info": {
   "codemirror_mode": {
    "name": "ipython",
    "version": 3
   },
   "file_extension": ".py",
   "mimetype": "text/x-python",
   "name": "python",
   "nbconvert_exporter": "python",
   "pygments_lexer": "ipython3",
   "version": "3.8.5"
  },
  "toc": {
   "base_numbering": 1,
   "nav_menu": {},
   "number_sections": true,
   "sideBar": true,
   "skip_h1_title": false,
   "title_cell": "Table of Contents",
   "title_sidebar": "Contents",
   "toc_cell": false,
   "toc_position": {},
   "toc_section_display": true,
   "toc_window_display": false
  },
  "varInspector": {
   "cols": {
    "lenName": 16,
    "lenType": 16,
    "lenVar": 40
   },
   "kernels_config": {
    "python": {
     "delete_cmd_postfix": "",
     "delete_cmd_prefix": "del ",
     "library": "var_list.py",
     "varRefreshCmd": "print(var_dic_list())"
    },
    "r": {
     "delete_cmd_postfix": ") ",
     "delete_cmd_prefix": "rm(",
     "library": "var_list.r",
     "varRefreshCmd": "cat(var_dic_list()) "
    }
   },
   "types_to_exclude": [
    "module",
    "function",
    "builtin_function_or_method",
    "instance",
    "_Feature"
   ],
   "window_display": false
  }
 },
 "nbformat": 4,
 "nbformat_minor": 5
}
